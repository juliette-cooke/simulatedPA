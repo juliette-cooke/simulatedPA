{
 "cells": [
  {
   "cell_type": "code",
   "execution_count": 1,
   "metadata": {
    "collapsed": true
   },
   "outputs": [],
   "source": [
    "import pandas as pd\n",
    "import simPA_scripts as simPA\n",
    "import gseapy as gp # needs to be v1.0.6 until they push the bug fix #239 (hopefully v1.1.2)\n",
    "from scipy.stats import norm\n",
    "import cobra\n",
    "import re\n",
    "import numpy as np"
   ]
  },
  {
   "cell_type": "markdown",
   "source": [
    "## Model\n",
    "### Set variables"
   ],
   "metadata": {
    "collapsed": false
   }
  },
  {
   "cell_type": "code",
   "execution_count": 2,
   "outputs": [],
   "source": [
    "# model_name = \"Recon2.2\" # For output file naming purposes\n",
    "model_name = \"Human1\" # For output file naming purposes\n",
    "outpath = \"../../data/output/\"+model_name+\"/\""
   ],
   "metadata": {
    "collapsed": false
   }
  },
  {
   "cell_type": "code",
   "execution_count": 3,
   "outputs": [],
   "source": [
    "if model_name == \"Recon2.2\":\n",
    "    model = cobra.io.read_sbml_model(\"/home/juliette/work/data/models/Recon2/Recon2.2_Swainton2016_no_b.xml\")\n",
    "    # Path to the model-specific data (z-score results, metabolite dictionary, etc.)\n",
    "    data_path = \"/home/juliette/work/pipelines/simpa/Recon2.2/\"\n",
    "    # List of pathway names to exclude from the analysis\n",
    "    pathways_to_remove = [\"Miscellaneous\", \"Exchange/demand reaction\", \"Transport, endoplasmic reticular\", \"Transport, golgi apparatus\", \"Transport, lysosomal\", \"Transport, peroxisomal\", \"Transport, mitochondrial\", \"Transport, nuclear\", \"Transport, extracellular\", \"Dietary fiber binding\"]\n",
    "    metab_suffix = \"_e\" # This is the suffix for exchange metabolites in the model\n",
    "    metab_pattern = r'_[a-z]$'\n",
    "    exchange_rxn_prefix = \"EX_\" # This is the prefix for exchange reactions in the model\n",
    "\n",
    "elif model_name == \"Human1\":\n",
    "    model = cobra.io.read_sbml_model(\"/home/juliette/work/data/models/Human1/1.11/Human-GEM.xml\")\n",
    "    # Path to the model-specific data (z-score results, metabolite dictionary, etc.)\n",
    "    data_path = \"../../data/input/\"\n",
    "    # List of pathway names to exclude from the analysis\n",
    "    pathways_to_remove = [\"Miscellaneous\",\"ROS detoxification\",\"Pool reactions\",\"Artificial reactions\",\"Isolated\",\"Dietary fiber binding\",\"Exchange/demand reactions\",\"Transport reactions\",\"Triacylglycerol synthesis\"]\n",
    "    removed_but_ran = ['Pool reactions',\n",
    "                       'Dietary fiber binding',\n",
    "                       'Artificial reactions',\n",
    "                       'ROS detoxification',\n",
    "                       'Isolated']\n",
    "    metab_suffix = \"e\" # This is the suffix for exchange metabolites in the model\n",
    "    metab_pattern = r'[a-z]$'\n",
    "    exchange_rxn_prefix = \"\" # This is the prefix for exchange reactions in the model"
   ],
   "metadata": {
    "collapsed": false
   }
  },
  {
   "cell_type": "markdown",
   "source": [
    "Create a version of the model without blocked reactions, and save it as an SBML file if needed. The model without blocked reactions will be used for the rest of this notebook."
   ],
   "metadata": {
    "collapsed": false
   }
  },
  {
   "cell_type": "code",
   "execution_count": 4,
   "outputs": [
    {
     "name": "stderr",
     "output_type": "stream",
     "text": [
      "/home/juliette/mambaforge/lib/python3.10/site-packages/cobra/core/group.py:147: UserWarning: need to pass in a list\n",
      "  warn(\"need to pass in a list\")\n"
     ]
    }
   ],
   "source": [
    "# Remove blocked reactions\n",
    "blocked_reactions = pd.read_csv(outpath+\"BKrxns_\"+model_name+\".txt\", header=None)\n",
    "blocked_reactions = blocked_reactions[0].tolist()\n",
    "model.remove_reactions(blocked_reactions)\n",
    "model_c, d_metab = cobra.manipulation.prune_unused_metabolites(model)"
   ],
   "metadata": {
    "collapsed": false
   }
  },
  {
   "cell_type": "code",
   "execution_count": 12,
   "outputs": [],
   "source": [
    "# Uncomment to write the sbml model without blocked reactions.\n",
    "# cobra.io.write_sbml_model(model_c, \"/home/juliette/work/data/models/Recon2/Recon2.2_no_blocked.xml\")"
   ],
   "metadata": {
    "collapsed": false
   }
  },
  {
   "cell_type": "markdown",
   "source": [
    "### Pathways"
   ],
   "metadata": {
    "collapsed": false
   }
  },
  {
   "cell_type": "code",
   "execution_count": 5,
   "outputs": [],
   "source": [
    "# Get list of all metabolites and their respective pathway(s)\n",
    "metabs = []\n",
    "subsystems = []\n",
    "for m in model_c.metabolites:\n",
    "    for r in m.reactions:\n",
    "        metabs.append(m.id)\n",
    "        subsystems.append(r.subsystem)\n",
    "# Join metabs and subsystems as a dataframe\n",
    "pathways = pd.DataFrame({'metabolite': metabs, 'subsystem': subsystems})\n",
    "pathways_wide = pathways.pivot(columns=\"subsystem\", values=\"metabolite\")\n",
    "\n",
    "# Pathway dictionary\n",
    "pathways_no_comp = {}\n",
    "pathways_d = {}\n",
    "for p in pathways_wide.columns:\n",
    "    pathways_no_comp[p] = []\n",
    "    pathways_d[p] = []\n",
    "    for m in pathways_wide[p]:\n",
    "        if not pd.isna(m):\n",
    "            pathways_no_comp[p].append(re.sub(metab_pattern, '', m))\n",
    "            pathways_d[p].append(m)\n",
    "    pathways_no_comp[p] = list(set(pathways_no_comp[p]))\n",
    "    pathways_d[p] = list(set(pathways_d[p]))\n",
    "\n",
    "pathway_ids = [g.id for g in model_c.groups]\n",
    "pathways_names = [g.name for g in model_c.groups]\n",
    "pathway_names = pd.DataFrame({'Group': pathway_ids, 'Pathway': pathways_names})"
   ],
   "metadata": {
    "collapsed": false
   }
  },
  {
   "cell_type": "code",
   "execution_count": 6,
   "outputs": [],
   "source": [
    "blocked_pathways = [p for p in pathway_names[\"Pathway\"].to_list() if p not in pathways_no_comp.keys()]"
   ],
   "metadata": {
    "collapsed": false
   }
  },
  {
   "cell_type": "markdown",
   "source": [
    "### Metabolite dictionary\n",
    "Read in the one generated by SAMBA, or create one using the sbml model."
   ],
   "metadata": {
    "collapsed": false
   }
  },
  {
   "cell_type": "code",
   "execution_count": 7,
   "outputs": [],
   "source": [
    "# SAMBA-created metabolite dictionary\n",
    "# metab_dict = pd.read_csv(outpath +\"metab_dict.tsv\", sep=\"\\t\")\n",
    "# metab_dict[\"metabID\"] = metab_dict[\"metabID\"].str.replace(metab_pattern, '', regex=True)"
   ],
   "metadata": {
    "collapsed": false
   }
  },
  {
   "cell_type": "code",
   "execution_count": 7,
   "outputs": [],
   "source": [
    "# Create metabolite dataframe from model\n",
    "metab_dict = pd.DataFrame(columns=[\"ID\", \"Name\", \"metabID\"])\n",
    "for e in model_c.exchanges:\n",
    "    met = list(e.metabolites.keys())[0]\n",
    "    metab_dict = pd.concat([metab_dict, pd.DataFrame([[e.id, met.name, re.sub(metab_pattern, '', met.id)]], columns=[\"ID\", \"Name\", \"metabID\"])])"
   ],
   "metadata": {
    "collapsed": false
   }
  },
  {
   "cell_type": "markdown",
   "source": [
    "### Z-scores"
   ],
   "metadata": {
    "collapsed": false
   }
  },
  {
   "cell_type": "code",
   "execution_count": 8,
   "outputs": [],
   "source": [
    "# Change this path if needed\n",
    "z_scores = pd.read_csv('../../data/large/zscores_'+model_name+'.tsv', sep='\\t').set_index(\"Metab\")\n",
    "#Filter to only keep exchange reaction scores\n",
    "exchange_reactions = pd.DataFrame([r.id for r in model.exchanges], columns=[\"exch\"])\n",
    "z_scores_exch = z_scores.loc[exchange_reactions.iloc[:,0].tolist(),:]\n",
    "z_scores_exch.replace([np.inf, -np.inf], np.nan, inplace=True)\n",
    "z_scores_exch.rename(index=dict(metab_dict[[\"ID\", \"metabID\"]].values), inplace=True)\n",
    "# z_scores = pd.read_csv(data_path + 'zscores.tsv', sep='\\t').set_index(\"Metab\")\n",
    "# Convert metabolite IDs to names\n",
    "z_scores_exch.rename(index=dict(metab_dict[[\"ID\",\"metabID\"]].values), inplace=True)\n",
    "z_scores_exch.rename(columns=dict(pathway_names[[\"Group\",\"Pathway\"]].values), inplace=True)\n",
    "# Get pathways not in z_scores\n",
    "infeasible_pathways = [p for p in pathways_names if p not in z_scores_exch.columns]\n",
    "removed_but_ran = [p for p in z_scores_exch.columns if p not in infeasible_pathways and p in pathways_to_remove]"
   ],
   "metadata": {
    "collapsed": false
   }
  },
  {
   "cell_type": "code",
   "execution_count": 9,
   "outputs": [
    {
     "data": {
      "text/plain": "     unique_id                                    subsystem  MAM01374  \\\n0            0                          Acyl-CoA hydrolysis -0.013211   \n1            1  Alanine, aspartate and glutamate metabolism  0.038023   \n2            2                  Arachidonic acid metabolism -0.054844   \n3            3              Arginine and proline metabolism  0.112917   \n4            4            Ascorbate and aldarate metabolism -0.052032   \n..         ...                                          ...       ...   \n113        113                        Vitamin B2 metabolism -0.062807   \n114        114                      Beta-alanine metabolism  0.113441   \n115        115                                   Urea cycle  0.108658   \n116        116                         Vitamin C metabolism  0.014480   \n117        117                        Riboflavin metabolism  0.117435   \n\n     MAM02556  MAM01296  MAM03044  MAM01403  MAM01174  MAM00932  MAM00545  \\\n0    0.014544 -0.017878 -0.013625 -0.013211 -0.013625 -0.015297 -0.013182   \n1   -0.002668  0.027932  0.037940  0.038023  0.037940  0.074032  0.038303   \n2   -0.054730 -0.057303 -0.054865 -0.054844 -0.054865 -0.041656 -0.054635   \n3    0.154581  0.125962  0.113441  0.112917  0.113441  0.160607  0.112014   \n4   -0.048330 -0.065174 -0.051936 -0.052032 -0.051936 -0.029433 -0.052194   \n..        ...       ...       ...       ...       ...       ...       ...   \n113 -0.035627 -0.064382 -0.062924 -0.062807 -0.062924 -0.046291 -0.062873   \n114  0.099619  0.051672  0.113691  0.113441  0.113691  0.140626  0.112225   \n115  0.097226  0.091371  0.108605  0.108658  0.108605  0.132194  0.108334   \n116 -0.012607  0.010485  0.014798  0.014480  0.014798  0.030264  0.014777   \n117  0.084531  0.104586  0.118466  0.117435  0.118466  0.112243  0.117025   \n\n     ...  MAM10023  MAM10025  MAM10026  MAM10027  MAM10028  MAM10029  \\\n0    ...  0.145213  0.119775 -0.027762 -0.040567  0.024801 -0.069278   \n1    ...  0.133314 -0.117696  0.169576 -0.111513 -0.004590 -0.080236   \n2    ...  0.111163  0.205165 -0.156217 -0.209038 -0.044315 -0.146198   \n3    ...  0.215889  0.240830 -0.034491 -0.228372 -0.080191 -0.229489   \n4    ...  0.094227  0.178358 -0.025048 -0.102714 -0.057186 -0.130320   \n..   ...       ...       ...       ...       ...       ...       ...   \n113  ...  0.090626  0.041867 -0.111900 -0.184331 -0.064667 -0.124044   \n114  ...  0.135337 -0.007548 -0.004612 -0.091511 -0.046246 -0.029452   \n115  ...  0.133247  0.093511 -0.124346  0.044186 -0.046810 -0.048692   \n116  ...  0.160665  0.003894 -0.098837 -0.056368 -0.014571 -0.125506   \n117  ...  0.151195 -0.177639  0.058575 -0.176372 -0.022567 -0.192730   \n\n     MAM10030  MAM10031  MAM10034  MAM10041  \n0    0.047543 -0.119775 -0.128000  0.084682  \n1   -0.090099  0.117696 -0.106231  0.109581  \n2    0.257980 -0.205165 -0.055930  0.144398  \n3    0.162232 -0.240830 -0.128657 -0.158554  \n4    0.080796 -0.178358 -0.048356 -0.008129  \n..        ...       ...       ...       ...  \n113  0.207865 -0.041867 -0.041447  0.271022  \n114  0.065313  0.007548 -0.155062  0.073516  \n115  0.027726 -0.093511 -0.131479  0.090183  \n116  0.104277 -0.003894 -0.110687  0.234741  \n117  0.047683  0.177639 -0.071995  0.094262  \n\n[118 rows x 1502 columns]",
      "text/html": "<div>\n<style scoped>\n    .dataframe tbody tr th:only-of-type {\n        vertical-align: middle;\n    }\n\n    .dataframe tbody tr th {\n        vertical-align: top;\n    }\n\n    .dataframe thead th {\n        text-align: right;\n    }\n</style>\n<table border=\"1\" class=\"dataframe\">\n  <thead>\n    <tr style=\"text-align: right;\">\n      <th></th>\n      <th>unique_id</th>\n      <th>subsystem</th>\n      <th>MAM01374</th>\n      <th>MAM02556</th>\n      <th>MAM01296</th>\n      <th>MAM03044</th>\n      <th>MAM01403</th>\n      <th>MAM01174</th>\n      <th>MAM00932</th>\n      <th>MAM00545</th>\n      <th>...</th>\n      <th>MAM10023</th>\n      <th>MAM10025</th>\n      <th>MAM10026</th>\n      <th>MAM10027</th>\n      <th>MAM10028</th>\n      <th>MAM10029</th>\n      <th>MAM10030</th>\n      <th>MAM10031</th>\n      <th>MAM10034</th>\n      <th>MAM10041</th>\n    </tr>\n  </thead>\n  <tbody>\n    <tr>\n      <th>0</th>\n      <td>0</td>\n      <td>Acyl-CoA hydrolysis</td>\n      <td>-0.013211</td>\n      <td>0.014544</td>\n      <td>-0.017878</td>\n      <td>-0.013625</td>\n      <td>-0.013211</td>\n      <td>-0.013625</td>\n      <td>-0.015297</td>\n      <td>-0.013182</td>\n      <td>...</td>\n      <td>0.145213</td>\n      <td>0.119775</td>\n      <td>-0.027762</td>\n      <td>-0.040567</td>\n      <td>0.024801</td>\n      <td>-0.069278</td>\n      <td>0.047543</td>\n      <td>-0.119775</td>\n      <td>-0.128000</td>\n      <td>0.084682</td>\n    </tr>\n    <tr>\n      <th>1</th>\n      <td>1</td>\n      <td>Alanine, aspartate and glutamate metabolism</td>\n      <td>0.038023</td>\n      <td>-0.002668</td>\n      <td>0.027932</td>\n      <td>0.037940</td>\n      <td>0.038023</td>\n      <td>0.037940</td>\n      <td>0.074032</td>\n      <td>0.038303</td>\n      <td>...</td>\n      <td>0.133314</td>\n      <td>-0.117696</td>\n      <td>0.169576</td>\n      <td>-0.111513</td>\n      <td>-0.004590</td>\n      <td>-0.080236</td>\n      <td>-0.090099</td>\n      <td>0.117696</td>\n      <td>-0.106231</td>\n      <td>0.109581</td>\n    </tr>\n    <tr>\n      <th>2</th>\n      <td>2</td>\n      <td>Arachidonic acid metabolism</td>\n      <td>-0.054844</td>\n      <td>-0.054730</td>\n      <td>-0.057303</td>\n      <td>-0.054865</td>\n      <td>-0.054844</td>\n      <td>-0.054865</td>\n      <td>-0.041656</td>\n      <td>-0.054635</td>\n      <td>...</td>\n      <td>0.111163</td>\n      <td>0.205165</td>\n      <td>-0.156217</td>\n      <td>-0.209038</td>\n      <td>-0.044315</td>\n      <td>-0.146198</td>\n      <td>0.257980</td>\n      <td>-0.205165</td>\n      <td>-0.055930</td>\n      <td>0.144398</td>\n    </tr>\n    <tr>\n      <th>3</th>\n      <td>3</td>\n      <td>Arginine and proline metabolism</td>\n      <td>0.112917</td>\n      <td>0.154581</td>\n      <td>0.125962</td>\n      <td>0.113441</td>\n      <td>0.112917</td>\n      <td>0.113441</td>\n      <td>0.160607</td>\n      <td>0.112014</td>\n      <td>...</td>\n      <td>0.215889</td>\n      <td>0.240830</td>\n      <td>-0.034491</td>\n      <td>-0.228372</td>\n      <td>-0.080191</td>\n      <td>-0.229489</td>\n      <td>0.162232</td>\n      <td>-0.240830</td>\n      <td>-0.128657</td>\n      <td>-0.158554</td>\n    </tr>\n    <tr>\n      <th>4</th>\n      <td>4</td>\n      <td>Ascorbate and aldarate metabolism</td>\n      <td>-0.052032</td>\n      <td>-0.048330</td>\n      <td>-0.065174</td>\n      <td>-0.051936</td>\n      <td>-0.052032</td>\n      <td>-0.051936</td>\n      <td>-0.029433</td>\n      <td>-0.052194</td>\n      <td>...</td>\n      <td>0.094227</td>\n      <td>0.178358</td>\n      <td>-0.025048</td>\n      <td>-0.102714</td>\n      <td>-0.057186</td>\n      <td>-0.130320</td>\n      <td>0.080796</td>\n      <td>-0.178358</td>\n      <td>-0.048356</td>\n      <td>-0.008129</td>\n    </tr>\n    <tr>\n      <th>...</th>\n      <td>...</td>\n      <td>...</td>\n      <td>...</td>\n      <td>...</td>\n      <td>...</td>\n      <td>...</td>\n      <td>...</td>\n      <td>...</td>\n      <td>...</td>\n      <td>...</td>\n      <td>...</td>\n      <td>...</td>\n      <td>...</td>\n      <td>...</td>\n      <td>...</td>\n      <td>...</td>\n      <td>...</td>\n      <td>...</td>\n      <td>...</td>\n      <td>...</td>\n      <td>...</td>\n    </tr>\n    <tr>\n      <th>113</th>\n      <td>113</td>\n      <td>Vitamin B2 metabolism</td>\n      <td>-0.062807</td>\n      <td>-0.035627</td>\n      <td>-0.064382</td>\n      <td>-0.062924</td>\n      <td>-0.062807</td>\n      <td>-0.062924</td>\n      <td>-0.046291</td>\n      <td>-0.062873</td>\n      <td>...</td>\n      <td>0.090626</td>\n      <td>0.041867</td>\n      <td>-0.111900</td>\n      <td>-0.184331</td>\n      <td>-0.064667</td>\n      <td>-0.124044</td>\n      <td>0.207865</td>\n      <td>-0.041867</td>\n      <td>-0.041447</td>\n      <td>0.271022</td>\n    </tr>\n    <tr>\n      <th>114</th>\n      <td>114</td>\n      <td>Beta-alanine metabolism</td>\n      <td>0.113441</td>\n      <td>0.099619</td>\n      <td>0.051672</td>\n      <td>0.113691</td>\n      <td>0.113441</td>\n      <td>0.113691</td>\n      <td>0.140626</td>\n      <td>0.112225</td>\n      <td>...</td>\n      <td>0.135337</td>\n      <td>-0.007548</td>\n      <td>-0.004612</td>\n      <td>-0.091511</td>\n      <td>-0.046246</td>\n      <td>-0.029452</td>\n      <td>0.065313</td>\n      <td>0.007548</td>\n      <td>-0.155062</td>\n      <td>0.073516</td>\n    </tr>\n    <tr>\n      <th>115</th>\n      <td>115</td>\n      <td>Urea cycle</td>\n      <td>0.108658</td>\n      <td>0.097226</td>\n      <td>0.091371</td>\n      <td>0.108605</td>\n      <td>0.108658</td>\n      <td>0.108605</td>\n      <td>0.132194</td>\n      <td>0.108334</td>\n      <td>...</td>\n      <td>0.133247</td>\n      <td>0.093511</td>\n      <td>-0.124346</td>\n      <td>0.044186</td>\n      <td>-0.046810</td>\n      <td>-0.048692</td>\n      <td>0.027726</td>\n      <td>-0.093511</td>\n      <td>-0.131479</td>\n      <td>0.090183</td>\n    </tr>\n    <tr>\n      <th>116</th>\n      <td>116</td>\n      <td>Vitamin C metabolism</td>\n      <td>0.014480</td>\n      <td>-0.012607</td>\n      <td>0.010485</td>\n      <td>0.014798</td>\n      <td>0.014480</td>\n      <td>0.014798</td>\n      <td>0.030264</td>\n      <td>0.014777</td>\n      <td>...</td>\n      <td>0.160665</td>\n      <td>0.003894</td>\n      <td>-0.098837</td>\n      <td>-0.056368</td>\n      <td>-0.014571</td>\n      <td>-0.125506</td>\n      <td>0.104277</td>\n      <td>-0.003894</td>\n      <td>-0.110687</td>\n      <td>0.234741</td>\n    </tr>\n    <tr>\n      <th>117</th>\n      <td>117</td>\n      <td>Riboflavin metabolism</td>\n      <td>0.117435</td>\n      <td>0.084531</td>\n      <td>0.104586</td>\n      <td>0.118466</td>\n      <td>0.117435</td>\n      <td>0.118466</td>\n      <td>0.112243</td>\n      <td>0.117025</td>\n      <td>...</td>\n      <td>0.151195</td>\n      <td>-0.177639</td>\n      <td>0.058575</td>\n      <td>-0.176372</td>\n      <td>-0.022567</td>\n      <td>-0.192730</td>\n      <td>0.047683</td>\n      <td>0.177639</td>\n      <td>-0.071995</td>\n      <td>0.094262</td>\n    </tr>\n  </tbody>\n</table>\n<p>118 rows × 1502 columns</p>\n</div>"
     },
     "execution_count": 9,
     "metadata": {},
     "output_type": "execute_result"
    }
   ],
   "source": [
    "z_scores_exch = z_scores_exch.loc[:,~z_scores_exch.columns.isin(pathways_to_remove)]\n",
    "# Transpose\n",
    "z_scores_t = z_scores_exch.transpose()\n",
    "z_scores_t.columns.name = None\n",
    "z_scores_t.index.names = ['subsystem']\n",
    "z_scores_t.reset_index(inplace=True)\n",
    "z_scores_t.index.names = ['unique_id']\n",
    "z_scores_t.reset_index(inplace=True)\n",
    "z_scores_t.dropna(axis=1, inplace=True)\n",
    "z_scores_t"
   ],
   "metadata": {
    "collapsed": false
   }
  },
  {
   "cell_type": "markdown",
   "source": [
    "# ORA"
   ],
   "metadata": {
    "collapsed": false
   }
  },
  {
   "cell_type": "code",
   "execution_count": 10,
   "outputs": [],
   "source": [
    "p_vals_all = norm.sf(z_scores_t.iloc[:, 2:].abs())*2\n",
    "p_vals_all_df = pd.DataFrame(data=p_vals_all, index=z_scores_t.index, columns=z_scores_t.iloc[:, 2:].columns)\n",
    "p_vals_all_df = pd.concat([z_scores_t[['unique_id', 'subsystem']], pd.DataFrame(p_vals_all_df)], axis=1)\n",
    "\n",
    "background_set = z_scores_t.iloc[:, 2:].columns.tolist()"
   ],
   "metadata": {
    "collapsed": false
   }
  },
  {
   "cell_type": "code",
   "execution_count": 12,
   "outputs": [],
   "source": [
    "p_vals_all_df.to_csv(\"../../data/output/\"+model_name+\"/p_vals_all_df.tsv\", sep=\"\\t\", index=False)"
   ],
   "metadata": {
    "collapsed": false
   }
  },
  {
   "cell_type": "code",
   "execution_count": 18,
   "outputs": [],
   "source": [
    "DA_metabolites_005 = {}\n",
    "pvals_dict = p_vals_all_df.drop('subsystem', axis=1).set_index('unique_id').to_dict(orient='index')\n",
    "for k, v in pvals_dict.items():\n",
    "    # differential_metabolites_Q3[k] = [m for m, z in v.items() if z >= z_scores_solo_upper_quartile[k]]\n",
    "    DA_metabolites_005[k] = [m for m, p in v.items() if p <= 0.05]\n",
    "    # print(len([m for m, z in v.items() if z >= z_scores_solo_upper_quartile[k]]))\n",
    "background_set = z_scores_t.iloc[:, 2:].columns.tolist()"
   ],
   "metadata": {
    "collapsed": false
   }
  },
  {
   "cell_type": "code",
   "execution_count": 19,
   "outputs": [],
   "source": [
    "ora_res_005 = {}\n",
    "for j in z_scores_t['unique_id']:\n",
    "    ora = simPA.ORA(DA_metabs=DA_metabolites_005[j], pathways=pathways_no_comp, background_set=background_set)\n",
    "    ora_res = ora.over_representation_analysis()\n",
    "    ora_res_005[j] =ora_res"
   ],
   "metadata": {
    "collapsed": false
   }
  },
  {
   "cell_type": "code",
   "execution_count": 20,
   "outputs": [
    {
     "name": "stderr",
     "output_type": "stream",
     "text": [
      "/home/juliette/mambaforge/lib/python3.10/site-packages/sklearn/metrics/_classification.py:1760: UndefinedMetricWarning: F-score is ill-defined and being set to 0.0 due to no true nor predicted samples. Use `zero_division` parameter to control this behavior.\n",
      "  _warn_prf(average, \"true nor predicted\", \"F-score is\", len(true_sum))\n",
      "/home/juliette/mambaforge/lib/python3.10/site-packages/sklearn/metrics/_classification.py:1760: UndefinedMetricWarning: F-score is ill-defined and being set to 0.0 due to no true nor predicted samples. Use `zero_division` parameter to control this behavior.\n",
      "  _warn_prf(average, \"true nor predicted\", \"F-score is\", len(true_sum))\n"
     ]
    }
   ],
   "source": [
    "ora_res_005_filt = {k: v for k, v in ora_res_005.items() if not v.empty}\n",
    "ora_res_005_empty = {k: v for k, v in ora_res_005.items() if v.empty}\n",
    "ora_005_metrics_filt = simPA.get_metrics_ORA(ora_res_005_filt, z_scores_t, 'P-value', 'ID', norm=False)"
   ],
   "metadata": {
    "collapsed": false
   }
  },
  {
   "cell_type": "code",
   "execution_count": 21,
   "outputs": [],
   "source": [
    "unable_to_run_ORA = ora_res_005_empty.keys()\n",
    "unable_to_run_ORA = z_scores_t[z_scores_t['unique_id'].isin(unable_to_run_ORA)]['subsystem'].to_list()\n",
    "# Get able to run in ORA\n",
    "able_to_run_ORA = ora_res_005_filt.keys()\n",
    "able_to_run_ORA = z_scores_t[z_scores_t['unique_id'].isin(able_to_run_ORA)]['subsystem'].to_list()"
   ],
   "metadata": {
    "collapsed": false
   }
  },
  {
   "cell_type": "markdown",
   "source": [
    "Write the raw results and metrics to files (uncomment)."
   ],
   "metadata": {
    "collapsed": false
   }
  },
  {
   "cell_type": "code",
   "execution_count": 22,
   "outputs": [],
   "source": [
    "ora_df = pd.concat(ora_res_005_filt)\n",
    "# ora_df.to_csv(outpath+model_name+\"_ORA_pval_005_metrics_external_with_WT_default_all_results.tsv\", index=False, sep=\"\\t\")\n",
    "# ora_005_metrics_filt.to_csv(outpath+model_name+\"_ORA_pval_005_metrics_external_with_WT_default_all.csv\", index=False)"
   ],
   "metadata": {
    "collapsed": false
   }
  },
  {
   "cell_type": "markdown",
   "source": [
    "# GSEA"
   ],
   "metadata": {
    "collapsed": false
   }
  },
  {
   "cell_type": "markdown",
   "source": [
    "Two GSEA approaches are used here: with signed z-scores (raw) and unsigned z-scores (absolute) as input."
   ],
   "metadata": {
    "collapsed": false
   }
  },
  {
   "cell_type": "code",
   "execution_count": 11,
   "outputs": [],
   "source": [
    "z_scores_gsea = z_scores_exch.T.reset_index(drop=True).T"
   ],
   "metadata": {
    "collapsed": false
   }
  },
  {
   "cell_type": "markdown",
   "source": [
    "## GSEA absolute"
   ],
   "metadata": {
    "collapsed": false
   }
  },
  {
   "cell_type": "code",
   "execution_count": 12,
   "outputs": [
    {
     "name": "stderr",
     "output_type": "stream",
     "text": [
      "2024-08-07 11:47:41,156 [WARNING] Duplicated values found in preranked stats: 2.93% of genes\n",
      "The order of those genes will be arbitrary, which may produce unexpected results.\n",
      "2024-08-07 11:47:41,960 [WARNING] Duplicated values found in preranked stats: 3.00% of genes\n",
      "The order of those genes will be arbitrary, which may produce unexpected results.\n",
      "2024-08-07 11:47:43,079 [WARNING] Duplicated values found in preranked stats: 3.00% of genes\n",
      "The order of those genes will be arbitrary, which may produce unexpected results.\n",
      "2024-08-07 11:47:43,697 [WARNING] Duplicated values found in preranked stats: 3.00% of genes\n",
      "The order of those genes will be arbitrary, which may produce unexpected results.\n",
      "2024-08-07 11:47:44,197 [WARNING] Duplicated values found in preranked stats: 3.00% of genes\n",
      "The order of those genes will be arbitrary, which may produce unexpected results.\n",
      "2024-08-07 11:47:44,696 [WARNING] Duplicated values found in preranked stats: 2.93% of genes\n",
      "The order of those genes will be arbitrary, which may produce unexpected results.\n",
      "2024-08-07 11:47:45,182 [WARNING] Duplicated values found in preranked stats: 3.00% of genes\n",
      "The order of those genes will be arbitrary, which may produce unexpected results.\n",
      "2024-08-07 11:47:45,738 [WARNING] Duplicated values found in preranked stats: 2.93% of genes\n",
      "The order of those genes will be arbitrary, which may produce unexpected results.\n",
      "2024-08-07 11:47:46,284 [WARNING] Duplicated values found in preranked stats: 2.93% of genes\n",
      "The order of those genes will be arbitrary, which may produce unexpected results.\n",
      "2024-08-07 11:47:46,776 [WARNING] Duplicated values found in preranked stats: 2.80% of genes\n",
      "The order of those genes will be arbitrary, which may produce unexpected results.\n",
      "2024-08-07 11:47:47,247 [WARNING] Duplicated values found in preranked stats: 2.93% of genes\n",
      "The order of those genes will be arbitrary, which may produce unexpected results.\n",
      "2024-08-07 11:47:47,718 [WARNING] Duplicated values found in preranked stats: 3.00% of genes\n",
      "The order of those genes will be arbitrary, which may produce unexpected results.\n",
      "2024-08-07 11:47:48,216 [WARNING] Duplicated values found in preranked stats: 2.93% of genes\n",
      "The order of those genes will be arbitrary, which may produce unexpected results.\n",
      "2024-08-07 11:47:48,705 [WARNING] Duplicated values found in preranked stats: 2.87% of genes\n",
      "The order of those genes will be arbitrary, which may produce unexpected results.\n",
      "2024-08-07 11:47:49,212 [WARNING] Duplicated values found in preranked stats: 2.93% of genes\n",
      "The order of those genes will be arbitrary, which may produce unexpected results.\n",
      "2024-08-07 11:47:49,714 [WARNING] Duplicated values found in preranked stats: 2.93% of genes\n",
      "The order of those genes will be arbitrary, which may produce unexpected results.\n",
      "2024-08-07 11:47:50,199 [WARNING] Duplicated values found in preranked stats: 2.93% of genes\n",
      "The order of those genes will be arbitrary, which may produce unexpected results.\n",
      "2024-08-07 11:47:50,667 [WARNING] Duplicated values found in preranked stats: 2.93% of genes\n",
      "The order of those genes will be arbitrary, which may produce unexpected results.\n",
      "2024-08-07 11:47:51,136 [WARNING] Duplicated values found in preranked stats: 2.87% of genes\n",
      "The order of those genes will be arbitrary, which may produce unexpected results.\n",
      "2024-08-07 11:47:51,624 [WARNING] Duplicated values found in preranked stats: 2.80% of genes\n",
      "The order of those genes will be arbitrary, which may produce unexpected results.\n",
      "2024-08-07 11:47:52,088 [WARNING] Duplicated values found in preranked stats: 2.93% of genes\n",
      "The order of those genes will be arbitrary, which may produce unexpected results.\n",
      "2024-08-07 11:47:52,541 [WARNING] Duplicated values found in preranked stats: 2.93% of genes\n",
      "The order of those genes will be arbitrary, which may produce unexpected results.\n",
      "2024-08-07 11:47:53,001 [WARNING] Duplicated values found in preranked stats: 2.93% of genes\n",
      "The order of those genes will be arbitrary, which may produce unexpected results.\n",
      "2024-08-07 11:47:53,480 [WARNING] Duplicated values found in preranked stats: 2.93% of genes\n",
      "The order of those genes will be arbitrary, which may produce unexpected results.\n",
      "2024-08-07 11:47:53,950 [WARNING] Duplicated values found in preranked stats: 2.87% of genes\n",
      "The order of those genes will be arbitrary, which may produce unexpected results.\n",
      "2024-08-07 11:47:54,423 [WARNING] Duplicated values found in preranked stats: 2.80% of genes\n",
      "The order of those genes will be arbitrary, which may produce unexpected results.\n",
      "2024-08-07 11:47:54,904 [WARNING] Duplicated values found in preranked stats: 2.93% of genes\n",
      "The order of those genes will be arbitrary, which may produce unexpected results.\n",
      "2024-08-07 11:47:55,417 [WARNING] Duplicated values found in preranked stats: 2.93% of genes\n",
      "The order of those genes will be arbitrary, which may produce unexpected results.\n",
      "2024-08-07 11:47:55,951 [WARNING] Duplicated values found in preranked stats: 3.00% of genes\n",
      "The order of those genes will be arbitrary, which may produce unexpected results.\n",
      "2024-08-07 11:47:56,403 [WARNING] Duplicated values found in preranked stats: 2.93% of genes\n",
      "The order of those genes will be arbitrary, which may produce unexpected results.\n",
      "2024-08-07 11:47:56,875 [WARNING] Duplicated values found in preranked stats: 2.87% of genes\n",
      "The order of those genes will be arbitrary, which may produce unexpected results.\n",
      "2024-08-07 11:47:57,343 [WARNING] Duplicated values found in preranked stats: 2.93% of genes\n",
      "The order of those genes will be arbitrary, which may produce unexpected results.\n",
      "2024-08-07 11:47:57,818 [WARNING] Duplicated values found in preranked stats: 2.93% of genes\n",
      "The order of those genes will be arbitrary, which may produce unexpected results.\n",
      "2024-08-07 11:47:58,284 [WARNING] Duplicated values found in preranked stats: 2.93% of genes\n",
      "The order of those genes will be arbitrary, which may produce unexpected results.\n",
      "2024-08-07 11:47:58,769 [WARNING] Duplicated values found in preranked stats: 2.73% of genes\n",
      "The order of those genes will be arbitrary, which may produce unexpected results.\n",
      "2024-08-07 11:47:59,231 [WARNING] Duplicated values found in preranked stats: 3.00% of genes\n",
      "The order of those genes will be arbitrary, which may produce unexpected results.\n",
      "2024-08-07 11:47:59,703 [WARNING] Duplicated values found in preranked stats: 2.93% of genes\n",
      "The order of those genes will be arbitrary, which may produce unexpected results.\n",
      "2024-08-07 11:48:00,158 [WARNING] Duplicated values found in preranked stats: 3.00% of genes\n",
      "The order of those genes will be arbitrary, which may produce unexpected results.\n",
      "2024-08-07 11:48:00,640 [WARNING] Duplicated values found in preranked stats: 2.93% of genes\n",
      "The order of those genes will be arbitrary, which may produce unexpected results.\n",
      "2024-08-07 11:48:01,109 [WARNING] Duplicated values found in preranked stats: 3.00% of genes\n",
      "The order of those genes will be arbitrary, which may produce unexpected results.\n",
      "2024-08-07 11:48:01,609 [WARNING] Duplicated values found in preranked stats: 3.00% of genes\n",
      "The order of those genes will be arbitrary, which may produce unexpected results.\n",
      "2024-08-07 11:48:02,121 [WARNING] Duplicated values found in preranked stats: 3.00% of genes\n",
      "The order of those genes will be arbitrary, which may produce unexpected results.\n",
      "2024-08-07 11:48:02,599 [WARNING] Duplicated values found in preranked stats: 3.00% of genes\n",
      "The order of those genes will be arbitrary, which may produce unexpected results.\n",
      "2024-08-07 11:48:03,075 [WARNING] Duplicated values found in preranked stats: 3.00% of genes\n",
      "The order of those genes will be arbitrary, which may produce unexpected results.\n",
      "2024-08-07 11:48:03,537 [WARNING] Duplicated values found in preranked stats: 2.93% of genes\n",
      "The order of those genes will be arbitrary, which may produce unexpected results.\n",
      "2024-08-07 11:48:04,000 [WARNING] Duplicated values found in preranked stats: 2.80% of genes\n",
      "The order of those genes will be arbitrary, which may produce unexpected results.\n",
      "2024-08-07 11:48:04,460 [WARNING] Duplicated values found in preranked stats: 3.00% of genes\n",
      "The order of those genes will be arbitrary, which may produce unexpected results.\n",
      "2024-08-07 11:48:04,943 [WARNING] Duplicated values found in preranked stats: 2.93% of genes\n",
      "The order of those genes will be arbitrary, which may produce unexpected results.\n",
      "2024-08-07 11:48:05,418 [WARNING] Duplicated values found in preranked stats: 2.93% of genes\n",
      "The order of those genes will be arbitrary, which may produce unexpected results.\n",
      "2024-08-07 11:48:05,891 [WARNING] Duplicated values found in preranked stats: 2.87% of genes\n",
      "The order of those genes will be arbitrary, which may produce unexpected results.\n",
      "2024-08-07 11:48:06,346 [WARNING] Duplicated values found in preranked stats: 3.00% of genes\n",
      "The order of those genes will be arbitrary, which may produce unexpected results.\n",
      "2024-08-07 11:48:06,815 [WARNING] Duplicated values found in preranked stats: 3.00% of genes\n",
      "The order of those genes will be arbitrary, which may produce unexpected results.\n",
      "2024-08-07 11:48:07,271 [WARNING] Duplicated values found in preranked stats: 2.93% of genes\n",
      "The order of those genes will be arbitrary, which may produce unexpected results.\n",
      "2024-08-07 11:48:07,774 [WARNING] Duplicated values found in preranked stats: 2.93% of genes\n",
      "The order of those genes will be arbitrary, which may produce unexpected results.\n",
      "2024-08-07 11:48:08,286 [WARNING] Duplicated values found in preranked stats: 2.93% of genes\n",
      "The order of those genes will be arbitrary, which may produce unexpected results.\n",
      "2024-08-07 11:48:08,772 [WARNING] Duplicated values found in preranked stats: 2.80% of genes\n",
      "The order of those genes will be arbitrary, which may produce unexpected results.\n",
      "2024-08-07 11:48:09,250 [WARNING] Duplicated values found in preranked stats: 2.93% of genes\n",
      "The order of those genes will be arbitrary, which may produce unexpected results.\n",
      "2024-08-07 11:48:09,716 [WARNING] Duplicated values found in preranked stats: 3.00% of genes\n",
      "The order of those genes will be arbitrary, which may produce unexpected results.\n",
      "2024-08-07 11:48:10,187 [WARNING] Duplicated values found in preranked stats: 2.80% of genes\n",
      "The order of those genes will be arbitrary, which may produce unexpected results.\n",
      "2024-08-07 11:48:10,648 [WARNING] Duplicated values found in preranked stats: 2.93% of genes\n",
      "The order of those genes will be arbitrary, which may produce unexpected results.\n",
      "2024-08-07 11:48:11,108 [WARNING] Duplicated values found in preranked stats: 2.93% of genes\n",
      "The order of those genes will be arbitrary, which may produce unexpected results.\n",
      "2024-08-07 11:48:11,568 [WARNING] Duplicated values found in preranked stats: 3.00% of genes\n",
      "The order of those genes will be arbitrary, which may produce unexpected results.\n",
      "2024-08-07 11:48:12,037 [WARNING] Duplicated values found in preranked stats: 3.00% of genes\n",
      "The order of those genes will be arbitrary, which may produce unexpected results.\n",
      "2024-08-07 11:48:12,503 [WARNING] Duplicated values found in preranked stats: 3.00% of genes\n",
      "The order of those genes will be arbitrary, which may produce unexpected results.\n",
      "2024-08-07 11:48:12,981 [WARNING] Duplicated values found in preranked stats: 2.93% of genes\n",
      "The order of those genes will be arbitrary, which may produce unexpected results.\n",
      "2024-08-07 11:48:13,455 [WARNING] Duplicated values found in preranked stats: 2.93% of genes\n",
      "The order of those genes will be arbitrary, which may produce unexpected results.\n",
      "2024-08-07 11:48:13,959 [WARNING] Duplicated values found in preranked stats: 2.93% of genes\n",
      "The order of those genes will be arbitrary, which may produce unexpected results.\n",
      "2024-08-07 11:48:14,463 [WARNING] Duplicated values found in preranked stats: 2.93% of genes\n",
      "The order of those genes will be arbitrary, which may produce unexpected results.\n",
      "2024-08-07 11:48:14,961 [WARNING] Duplicated values found in preranked stats: 3.00% of genes\n",
      "The order of those genes will be arbitrary, which may produce unexpected results.\n",
      "2024-08-07 11:48:15,453 [WARNING] Duplicated values found in preranked stats: 2.93% of genes\n",
      "The order of those genes will be arbitrary, which may produce unexpected results.\n",
      "2024-08-07 11:48:15,916 [WARNING] Duplicated values found in preranked stats: 2.93% of genes\n",
      "The order of those genes will be arbitrary, which may produce unexpected results.\n",
      "2024-08-07 11:48:16,387 [WARNING] Duplicated values found in preranked stats: 2.93% of genes\n",
      "The order of those genes will be arbitrary, which may produce unexpected results.\n",
      "2024-08-07 11:48:16,847 [WARNING] Duplicated values found in preranked stats: 2.93% of genes\n",
      "The order of those genes will be arbitrary, which may produce unexpected results.\n",
      "2024-08-07 11:48:17,325 [WARNING] Duplicated values found in preranked stats: 2.73% of genes\n",
      "The order of those genes will be arbitrary, which may produce unexpected results.\n",
      "2024-08-07 11:48:17,794 [WARNING] Duplicated values found in preranked stats: 2.93% of genes\n",
      "The order of those genes will be arbitrary, which may produce unexpected results.\n",
      "2024-08-07 11:48:18,274 [WARNING] Duplicated values found in preranked stats: 3.00% of genes\n",
      "The order of those genes will be arbitrary, which may produce unexpected results.\n",
      "2024-08-07 11:48:18,739 [WARNING] Duplicated values found in preranked stats: 2.87% of genes\n",
      "The order of those genes will be arbitrary, which may produce unexpected results.\n",
      "2024-08-07 11:48:19,206 [WARNING] Duplicated values found in preranked stats: 2.87% of genes\n",
      "The order of those genes will be arbitrary, which may produce unexpected results.\n",
      "2024-08-07 11:48:19,671 [WARNING] Duplicated values found in preranked stats: 3.00% of genes\n",
      "The order of those genes will be arbitrary, which may produce unexpected results.\n",
      "2024-08-07 11:48:20,168 [WARNING] Duplicated values found in preranked stats: 2.93% of genes\n",
      "The order of those genes will be arbitrary, which may produce unexpected results.\n",
      "2024-08-07 11:48:20,673 [WARNING] Duplicated values found in preranked stats: 3.00% of genes\n",
      "The order of those genes will be arbitrary, which may produce unexpected results.\n",
      "2024-08-07 11:48:21,169 [WARNING] Duplicated values found in preranked stats: 2.80% of genes\n",
      "The order of those genes will be arbitrary, which may produce unexpected results.\n",
      "2024-08-07 11:48:21,644 [WARNING] Duplicated values found in preranked stats: 2.87% of genes\n",
      "The order of those genes will be arbitrary, which may produce unexpected results.\n",
      "2024-08-07 11:48:22,126 [WARNING] Duplicated values found in preranked stats: 3.00% of genes\n",
      "The order of those genes will be arbitrary, which may produce unexpected results.\n",
      "2024-08-07 11:48:22,598 [WARNING] Duplicated values found in preranked stats: 2.93% of genes\n",
      "The order of those genes will be arbitrary, which may produce unexpected results.\n",
      "2024-08-07 11:48:23,060 [WARNING] Duplicated values found in preranked stats: 2.93% of genes\n",
      "The order of those genes will be arbitrary, which may produce unexpected results.\n",
      "2024-08-07 11:48:23,531 [WARNING] Duplicated values found in preranked stats: 2.93% of genes\n",
      "The order of those genes will be arbitrary, which may produce unexpected results.\n",
      "2024-08-07 11:48:24,004 [WARNING] Duplicated values found in preranked stats: 2.93% of genes\n",
      "The order of those genes will be arbitrary, which may produce unexpected results.\n",
      "2024-08-07 11:48:24,490 [WARNING] Duplicated values found in preranked stats: 2.80% of genes\n",
      "The order of those genes will be arbitrary, which may produce unexpected results.\n",
      "2024-08-07 11:48:24,982 [WARNING] Duplicated values found in preranked stats: 3.00% of genes\n",
      "The order of those genes will be arbitrary, which may produce unexpected results.\n",
      "2024-08-07 11:48:25,477 [WARNING] Duplicated values found in preranked stats: 3.00% of genes\n",
      "The order of those genes will be arbitrary, which may produce unexpected results.\n",
      "2024-08-07 11:48:25,946 [WARNING] Duplicated values found in preranked stats: 2.93% of genes\n",
      "The order of those genes will be arbitrary, which may produce unexpected results.\n",
      "2024-08-07 11:48:26,434 [WARNING] Duplicated values found in preranked stats: 2.80% of genes\n",
      "The order of those genes will be arbitrary, which may produce unexpected results.\n",
      "2024-08-07 11:48:26,948 [WARNING] Duplicated values found in preranked stats: 2.93% of genes\n",
      "The order of those genes will be arbitrary, which may produce unexpected results.\n",
      "2024-08-07 11:48:27,453 [WARNING] Duplicated values found in preranked stats: 2.93% of genes\n",
      "The order of those genes will be arbitrary, which may produce unexpected results.\n",
      "2024-08-07 11:48:27,945 [WARNING] Duplicated values found in preranked stats: 2.80% of genes\n",
      "The order of those genes will be arbitrary, which may produce unexpected results.\n",
      "2024-08-07 11:48:28,426 [WARNING] Duplicated values found in preranked stats: 2.93% of genes\n",
      "The order of those genes will be arbitrary, which may produce unexpected results.\n",
      "2024-08-07 11:48:28,910 [WARNING] Duplicated values found in preranked stats: 3.00% of genes\n",
      "The order of those genes will be arbitrary, which may produce unexpected results.\n",
      "2024-08-07 11:48:29,404 [WARNING] Duplicated values found in preranked stats: 2.93% of genes\n",
      "The order of those genes will be arbitrary, which may produce unexpected results.\n",
      "2024-08-07 11:48:29,872 [WARNING] Duplicated values found in preranked stats: 2.93% of genes\n",
      "The order of those genes will be arbitrary, which may produce unexpected results.\n",
      "2024-08-07 11:48:30,361 [WARNING] Duplicated values found in preranked stats: 2.93% of genes\n",
      "The order of those genes will be arbitrary, which may produce unexpected results.\n",
      "2024-08-07 11:48:30,818 [WARNING] Duplicated values found in preranked stats: 2.93% of genes\n",
      "The order of those genes will be arbitrary, which may produce unexpected results.\n",
      "2024-08-07 11:48:31,301 [WARNING] Duplicated values found in preranked stats: 2.93% of genes\n",
      "The order of those genes will be arbitrary, which may produce unexpected results.\n",
      "2024-08-07 11:48:31,783 [WARNING] Duplicated values found in preranked stats: 3.00% of genes\n",
      "The order of those genes will be arbitrary, which may produce unexpected results.\n",
      "2024-08-07 11:48:32,266 [WARNING] Duplicated values found in preranked stats: 3.00% of genes\n",
      "The order of those genes will be arbitrary, which may produce unexpected results.\n",
      "2024-08-07 11:48:32,771 [WARNING] Duplicated values found in preranked stats: 2.87% of genes\n",
      "The order of those genes will be arbitrary, which may produce unexpected results.\n",
      "2024-08-07 11:48:33,292 [WARNING] Duplicated values found in preranked stats: 2.93% of genes\n",
      "The order of those genes will be arbitrary, which may produce unexpected results.\n",
      "2024-08-07 11:48:33,812 [WARNING] Duplicated values found in preranked stats: 2.93% of genes\n",
      "The order of those genes will be arbitrary, which may produce unexpected results.\n",
      "2024-08-07 11:48:34,299 [WARNING] Duplicated values found in preranked stats: 3.00% of genes\n",
      "The order of those genes will be arbitrary, which may produce unexpected results.\n",
      "2024-08-07 11:48:34,771 [WARNING] Duplicated values found in preranked stats: 2.93% of genes\n",
      "The order of those genes will be arbitrary, which may produce unexpected results.\n",
      "2024-08-07 11:48:35,227 [WARNING] Duplicated values found in preranked stats: 3.00% of genes\n",
      "The order of those genes will be arbitrary, which may produce unexpected results.\n",
      "2024-08-07 11:48:35,712 [WARNING] Duplicated values found in preranked stats: 2.93% of genes\n",
      "The order of those genes will be arbitrary, which may produce unexpected results.\n",
      "2024-08-07 11:48:36,198 [WARNING] Duplicated values found in preranked stats: 2.93% of genes\n",
      "The order of those genes will be arbitrary, which may produce unexpected results.\n",
      "2024-08-07 11:48:36,675 [WARNING] Duplicated values found in preranked stats: 3.00% of genes\n",
      "The order of those genes will be arbitrary, which may produce unexpected results.\n",
      "2024-08-07 11:48:37,170 [WARNING] Duplicated values found in preranked stats: 2.87% of genes\n",
      "The order of those genes will be arbitrary, which may produce unexpected results.\n",
      "2024-08-07 11:48:37,641 [WARNING] Duplicated values found in preranked stats: 2.93% of genes\n",
      "The order of those genes will be arbitrary, which may produce unexpected results.\n",
      "2024-08-07 11:48:38,100 [WARNING] Duplicated values found in preranked stats: 2.93% of genes\n",
      "The order of those genes will be arbitrary, which may produce unexpected results.\n",
      "2024-08-07 11:48:38,565 [WARNING] Duplicated values found in preranked stats: 2.93% of genes\n",
      "The order of those genes will be arbitrary, which may produce unexpected results.\n"
     ]
    }
   ],
   "source": [
    "gsea_res_per_path = {}\n",
    "for i in z_scores_gsea.columns:\n",
    "    gsea_res = gp.prerank(rnk=z_scores_gsea.loc[:,i].dropna().abs(), gene_sets=pathways_no_comp, min_size=3)\n",
    "    gsea_res_per_path[i] = gsea_res.res2d"
   ],
   "metadata": {
    "collapsed": false
   }
  },
  {
   "cell_type": "code",
   "execution_count": 13,
   "outputs": [],
   "source": [
    "for k, v in gsea_res_per_path.items():\n",
    "    v[\"unique_id\"] = z_scores_t[z_scores_t[\"unique_id\"] == k][\"subsystem\"].values[0]"
   ],
   "metadata": {
    "collapsed": false
   }
  },
  {
   "cell_type": "markdown",
   "source": [
    "Example:"
   ],
   "metadata": {
    "collapsed": false
   }
  },
  {
   "cell_type": "code",
   "execution_count": 20,
   "outputs": [
    {
     "name": "stderr",
     "output_type": "stream",
     "text": [
      "2024-08-07 12:05:21,615 [WARNING] Duplicated values found in preranked stats: 3.00% of genes\n",
      "The order of those genes will be arbitrary, which may produce unexpected results.\n"
     ]
    },
    {
     "data": {
      "text/plain": "[<Axes: xlabel='Gene Rank', ylabel='Ranked metric'>,\n <Axes: >,\n <Axes: >,\n <Axes: ylabel='Enrichment Score'>]"
     },
     "execution_count": 20,
     "metadata": {},
     "output_type": "execute_result"
    },
    {
     "data": {
      "text/plain": "<Figure size 600x550 with 4 Axes>",
      "image/png": "[encoded data removed]"
     },
     "metadata": {},
     "output_type": "display_data"
    }
   ],
   "source": [
    "p_id = 51\n",
    "p_name = \"Butanoate metabolism\"\n",
    "# gsea_res_per_path[110]\n",
    "pre_res_abs_TP_example = gp.prerank(rnk=z_scores_gsea.loc[:,p_id].dropna().abs(), gene_sets=pathways_no_comp, min_size=3)\n",
    "gp.gseaplot(rank_metric=pre_res_abs_TP_example.ranking, term=p_name, **pre_res_abs_TP_example.results[p_name])"
   ],
   "metadata": {
    "collapsed": false
   }
  },
  {
   "cell_type": "markdown",
   "source": [
    "Write the GSEA results to files (uncomment)."
   ],
   "metadata": {
    "collapsed": false
   }
  },
  {
   "cell_type": "code",
   "execution_count": 14,
   "outputs": [],
   "source": [
    "all_ko_matrix = simPA.get_metrics(gsea_res_per_path, z_scores_t, 'NOM p-val', \"Term\", NES_pos=True, norm=False)\n",
    "# all_ko_matrix.to_csv(outpath+model_name+\"_GSEA_absolute_metric_external_with_WT_default_all.csv\", index=False)\n",
    "gsea_df = pd.concat(gsea_res_per_path)\n",
    "# gsea_df.to_csv(outpath+model_name+\"_GSEA_absolute_metric_external_with_WT_default_all_results.tsv\", index=False, sep=\"\\t\")"
   ],
   "metadata": {
    "collapsed": false
   }
  },
  {
   "cell_type": "code",
   "execution_count": 27,
   "outputs": [],
   "source": [
    "# Get able to run GSEA\n",
    "able_to_run_GSEA = gsea_res_per_path.keys()\n",
    "able_to_run_GSEA = z_scores_t[z_scores_t['unique_id'].isin(able_to_run_GSEA)]['subsystem'].to_list()"
   ],
   "metadata": {
    "collapsed": false
   }
  },
  {
   "cell_type": "markdown",
   "source": [
    "## GSEA raw"
   ],
   "metadata": {
    "collapsed": false
   }
  },
  {
   "cell_type": "code",
   "execution_count": 28,
   "outputs": [
    {
     "name": "stderr",
     "output_type": "stream",
     "text": [
      "2024-07-30 14:02:00,160 [WARNING] Duplicated values found in preranked stats: 0.64% of genes\n",
      "The order of those genes will be arbitrary, which may produce unexpected results.\n",
      "2024-07-30 14:02:00,371 [WARNING] Duplicated values found in preranked stats: 0.64% of genes\n",
      "The order of those genes will be arbitrary, which may produce unexpected results.\n",
      "2024-07-30 14:02:00,577 [WARNING] Duplicated values found in preranked stats: 0.64% of genes\n",
      "The order of those genes will be arbitrary, which may produce unexpected results.\n",
      "2024-07-30 14:02:00,764 [WARNING] Duplicated values found in preranked stats: 0.64% of genes\n",
      "The order of those genes will be arbitrary, which may produce unexpected results.\n",
      "2024-07-30 14:02:00,955 [WARNING] Duplicated values found in preranked stats: 0.64% of genes\n",
      "The order of those genes will be arbitrary, which may produce unexpected results.\n",
      "2024-07-30 14:02:01,131 [WARNING] Duplicated values found in preranked stats: 0.64% of genes\n",
      "The order of those genes will be arbitrary, which may produce unexpected results.\n",
      "2024-07-30 14:02:01,315 [WARNING] Duplicated values found in preranked stats: 0.64% of genes\n",
      "The order of those genes will be arbitrary, which may produce unexpected results.\n",
      "2024-07-30 14:02:01,523 [WARNING] Duplicated values found in preranked stats: 0.64% of genes\n",
      "The order of those genes will be arbitrary, which may produce unexpected results.\n",
      "2024-07-30 14:02:01,711 [WARNING] Duplicated values found in preranked stats: 0.64% of genes\n",
      "The order of those genes will be arbitrary, which may produce unexpected results.\n",
      "2024-07-30 14:02:01,893 [WARNING] Duplicated values found in preranked stats: 0.64% of genes\n",
      "The order of those genes will be arbitrary, which may produce unexpected results.\n",
      "2024-07-30 14:02:02,089 [WARNING] Duplicated values found in preranked stats: 0.64% of genes\n",
      "The order of those genes will be arbitrary, which may produce unexpected results.\n",
      "2024-07-30 14:02:02,314 [WARNING] Duplicated values found in preranked stats: 0.64% of genes\n",
      "The order of those genes will be arbitrary, which may produce unexpected results.\n",
      "2024-07-30 14:02:02,487 [WARNING] Duplicated values found in preranked stats: 0.64% of genes\n",
      "The order of those genes will be arbitrary, which may produce unexpected results.\n",
      "2024-07-30 14:02:02,671 [WARNING] Duplicated values found in preranked stats: 0.64% of genes\n",
      "The order of those genes will be arbitrary, which may produce unexpected results.\n",
      "2024-07-30 14:02:02,947 [WARNING] Duplicated values found in preranked stats: 0.64% of genes\n",
      "The order of those genes will be arbitrary, which may produce unexpected results.\n",
      "2024-07-30 14:02:03,148 [WARNING] Duplicated values found in preranked stats: 0.64% of genes\n",
      "The order of those genes will be arbitrary, which may produce unexpected results.\n",
      "2024-07-30 14:02:03,356 [WARNING] Duplicated values found in preranked stats: 0.64% of genes\n",
      "The order of those genes will be arbitrary, which may produce unexpected results.\n",
      "2024-07-30 14:02:03,555 [WARNING] Duplicated values found in preranked stats: 0.64% of genes\n",
      "The order of those genes will be arbitrary, which may produce unexpected results.\n",
      "2024-07-30 14:02:03,772 [WARNING] Duplicated values found in preranked stats: 0.64% of genes\n",
      "The order of those genes will be arbitrary, which may produce unexpected results.\n",
      "2024-07-30 14:02:03,979 [WARNING] Duplicated values found in preranked stats: 0.64% of genes\n",
      "The order of those genes will be arbitrary, which may produce unexpected results.\n",
      "2024-07-30 14:02:04,163 [WARNING] Duplicated values found in preranked stats: 0.64% of genes\n",
      "The order of those genes will be arbitrary, which may produce unexpected results.\n",
      "2024-07-30 14:02:04,356 [WARNING] Duplicated values found in preranked stats: 0.64% of genes\n",
      "The order of those genes will be arbitrary, which may produce unexpected results.\n",
      "2024-07-30 14:02:04,524 [WARNING] Duplicated values found in preranked stats: 0.64% of genes\n",
      "The order of those genes will be arbitrary, which may produce unexpected results.\n",
      "2024-07-30 14:02:04,704 [WARNING] Duplicated values found in preranked stats: 0.64% of genes\n",
      "The order of those genes will be arbitrary, which may produce unexpected results.\n",
      "2024-07-30 14:02:05,006 [WARNING] Duplicated values found in preranked stats: 0.64% of genes\n",
      "The order of those genes will be arbitrary, which may produce unexpected results.\n",
      "2024-07-30 14:02:05,226 [WARNING] Duplicated values found in preranked stats: 0.64% of genes\n",
      "The order of those genes will be arbitrary, which may produce unexpected results.\n",
      "2024-07-30 14:02:05,446 [WARNING] Duplicated values found in preranked stats: 0.64% of genes\n",
      "The order of those genes will be arbitrary, which may produce unexpected results.\n",
      "2024-07-30 14:02:05,645 [WARNING] Duplicated values found in preranked stats: 0.64% of genes\n",
      "The order of those genes will be arbitrary, which may produce unexpected results.\n",
      "2024-07-30 14:02:05,812 [WARNING] Duplicated values found in preranked stats: 0.64% of genes\n",
      "The order of those genes will be arbitrary, which may produce unexpected results.\n",
      "2024-07-30 14:02:05,982 [WARNING] Duplicated values found in preranked stats: 0.64% of genes\n",
      "The order of those genes will be arbitrary, which may produce unexpected results.\n",
      "2024-07-30 14:02:06,162 [WARNING] Duplicated values found in preranked stats: 0.64% of genes\n",
      "The order of those genes will be arbitrary, which may produce unexpected results.\n",
      "2024-07-30 14:02:06,331 [WARNING] Duplicated values found in preranked stats: 0.64% of genes\n",
      "The order of those genes will be arbitrary, which may produce unexpected results.\n",
      "2024-07-30 14:02:06,509 [WARNING] Duplicated values found in preranked stats: 0.64% of genes\n",
      "The order of those genes will be arbitrary, which may produce unexpected results.\n",
      "2024-07-30 14:02:06,697 [WARNING] Duplicated values found in preranked stats: 0.64% of genes\n",
      "The order of those genes will be arbitrary, which may produce unexpected results.\n",
      "2024-07-30 14:02:06,932 [WARNING] Duplicated values found in preranked stats: 0.64% of genes\n",
      "The order of those genes will be arbitrary, which may produce unexpected results.\n",
      "2024-07-30 14:02:07,112 [WARNING] Duplicated values found in preranked stats: 0.64% of genes\n",
      "The order of those genes will be arbitrary, which may produce unexpected results.\n",
      "2024-07-30 14:02:07,300 [WARNING] Duplicated values found in preranked stats: 0.64% of genes\n",
      "The order of those genes will be arbitrary, which may produce unexpected results.\n",
      "2024-07-30 14:02:07,482 [WARNING] Duplicated values found in preranked stats: 0.64% of genes\n",
      "The order of those genes will be arbitrary, which may produce unexpected results.\n",
      "2024-07-30 14:02:07,663 [WARNING] Duplicated values found in preranked stats: 0.64% of genes\n",
      "The order of those genes will be arbitrary, which may produce unexpected results.\n",
      "2024-07-30 14:02:07,838 [WARNING] Duplicated values found in preranked stats: 0.64% of genes\n",
      "The order of those genes will be arbitrary, which may produce unexpected results.\n",
      "2024-07-30 14:02:08,013 [WARNING] Duplicated values found in preranked stats: 0.64% of genes\n",
      "The order of those genes will be arbitrary, which may produce unexpected results.\n",
      "2024-07-30 14:02:08,192 [WARNING] Duplicated values found in preranked stats: 0.64% of genes\n",
      "The order of those genes will be arbitrary, which may produce unexpected results.\n",
      "2024-07-30 14:02:08,376 [WARNING] Duplicated values found in preranked stats: 0.64% of genes\n",
      "The order of those genes will be arbitrary, which may produce unexpected results.\n",
      "2024-07-30 14:02:08,568 [WARNING] Duplicated values found in preranked stats: 0.64% of genes\n",
      "The order of those genes will be arbitrary, which may produce unexpected results.\n",
      "2024-07-30 14:02:08,741 [WARNING] Duplicated values found in preranked stats: 0.64% of genes\n",
      "The order of those genes will be arbitrary, which may produce unexpected results.\n",
      "2024-07-30 14:02:08,927 [WARNING] Duplicated values found in preranked stats: 0.64% of genes\n",
      "The order of those genes will be arbitrary, which may produce unexpected results.\n",
      "2024-07-30 14:02:09,138 [WARNING] Duplicated values found in preranked stats: 0.64% of genes\n",
      "The order of those genes will be arbitrary, which may produce unexpected results.\n",
      "2024-07-30 14:02:09,348 [WARNING] Duplicated values found in preranked stats: 0.64% of genes\n",
      "The order of those genes will be arbitrary, which may produce unexpected results.\n",
      "2024-07-30 14:02:09,578 [WARNING] Duplicated values found in preranked stats: 0.64% of genes\n",
      "The order of those genes will be arbitrary, which may produce unexpected results.\n",
      "2024-07-30 14:02:09,769 [WARNING] Duplicated values found in preranked stats: 0.64% of genes\n",
      "The order of those genes will be arbitrary, which may produce unexpected results.\n",
      "2024-07-30 14:02:09,974 [WARNING] Duplicated values found in preranked stats: 0.64% of genes\n",
      "The order of those genes will be arbitrary, which may produce unexpected results.\n",
      "2024-07-30 14:02:10,180 [WARNING] Duplicated values found in preranked stats: 0.64% of genes\n",
      "The order of those genes will be arbitrary, which may produce unexpected results.\n",
      "2024-07-30 14:02:10,358 [WARNING] Duplicated values found in preranked stats: 0.64% of genes\n",
      "The order of those genes will be arbitrary, which may produce unexpected results.\n",
      "2024-07-30 14:02:10,544 [WARNING] Duplicated values found in preranked stats: 0.64% of genes\n",
      "The order of those genes will be arbitrary, which may produce unexpected results.\n",
      "2024-07-30 14:02:10,730 [WARNING] Duplicated values found in preranked stats: 0.64% of genes\n",
      "The order of those genes will be arbitrary, which may produce unexpected results.\n",
      "2024-07-30 14:02:10,911 [WARNING] Duplicated values found in preranked stats: 0.64% of genes\n",
      "The order of those genes will be arbitrary, which may produce unexpected results.\n",
      "2024-07-30 14:02:11,094 [WARNING] Duplicated values found in preranked stats: 0.64% of genes\n",
      "The order of those genes will be arbitrary, which may produce unexpected results.\n",
      "2024-07-30 14:02:11,273 [WARNING] Duplicated values found in preranked stats: 0.64% of genes\n",
      "The order of those genes will be arbitrary, which may produce unexpected results.\n",
      "2024-07-30 14:02:11,460 [WARNING] Duplicated values found in preranked stats: 0.64% of genes\n",
      "The order of those genes will be arbitrary, which may produce unexpected results.\n",
      "2024-07-30 14:02:11,652 [WARNING] Duplicated values found in preranked stats: 0.64% of genes\n",
      "The order of those genes will be arbitrary, which may produce unexpected results.\n",
      "2024-07-30 14:02:11,835 [WARNING] Duplicated values found in preranked stats: 0.64% of genes\n",
      "The order of those genes will be arbitrary, which may produce unexpected results.\n",
      "2024-07-30 14:02:12,008 [WARNING] Duplicated values found in preranked stats: 0.64% of genes\n",
      "The order of those genes will be arbitrary, which may produce unexpected results.\n",
      "2024-07-30 14:02:12,177 [WARNING] Duplicated values found in preranked stats: 0.64% of genes\n",
      "The order of those genes will be arbitrary, which may produce unexpected results.\n",
      "2024-07-30 14:02:12,358 [WARNING] Duplicated values found in preranked stats: 0.64% of genes\n",
      "The order of those genes will be arbitrary, which may produce unexpected results.\n",
      "2024-07-30 14:02:12,537 [WARNING] Duplicated values found in preranked stats: 0.64% of genes\n",
      "The order of those genes will be arbitrary, which may produce unexpected results.\n",
      "2024-07-30 14:02:12,709 [WARNING] Duplicated values found in preranked stats: 0.64% of genes\n",
      "The order of those genes will be arbitrary, which may produce unexpected results.\n",
      "2024-07-30 14:02:12,898 [WARNING] Duplicated values found in preranked stats: 0.64% of genes\n",
      "The order of those genes will be arbitrary, which may produce unexpected results.\n",
      "2024-07-30 14:02:13,075 [WARNING] Duplicated values found in preranked stats: 0.64% of genes\n",
      "The order of those genes will be arbitrary, which may produce unexpected results.\n",
      "2024-07-30 14:02:13,260 [WARNING] Duplicated values found in preranked stats: 0.64% of genes\n",
      "The order of those genes will be arbitrary, which may produce unexpected results.\n",
      "2024-07-30 14:02:13,442 [WARNING] Duplicated values found in preranked stats: 0.64% of genes\n",
      "The order of those genes will be arbitrary, which may produce unexpected results.\n",
      "2024-07-30 14:02:13,618 [WARNING] Duplicated values found in preranked stats: 0.64% of genes\n",
      "The order of those genes will be arbitrary, which may produce unexpected results.\n",
      "2024-07-30 14:02:13,793 [WARNING] Duplicated values found in preranked stats: 0.64% of genes\n",
      "The order of those genes will be arbitrary, which may produce unexpected results.\n",
      "2024-07-30 14:02:13,983 [WARNING] Duplicated values found in preranked stats: 0.64% of genes\n",
      "The order of those genes will be arbitrary, which may produce unexpected results.\n",
      "2024-07-30 14:02:14,221 [WARNING] Duplicated values found in preranked stats: 0.64% of genes\n",
      "The order of those genes will be arbitrary, which may produce unexpected results.\n",
      "2024-07-30 14:02:14,402 [WARNING] Duplicated values found in preranked stats: 0.64% of genes\n",
      "The order of those genes will be arbitrary, which may produce unexpected results.\n",
      "2024-07-30 14:02:14,602 [WARNING] Duplicated values found in preranked stats: 0.64% of genes\n",
      "The order of those genes will be arbitrary, which may produce unexpected results.\n"
     ]
    }
   ],
   "source": [
    "gsea_res_per_path_raw = {}\n",
    "for i in z_scores_gsea.columns:\n",
    "    gsea_res = gp.prerank(rnk=z_scores_gsea.loc[:,i].dropna(), gene_sets=pathways_no_comp, min_size=3)\n",
    "    gsea_res_per_path_raw[i] = gsea_res.res2d"
   ],
   "metadata": {
    "collapsed": false
   }
  },
  {
   "cell_type": "markdown",
   "source": [
    "Write the GSEA results to files (uncomment)."
   ],
   "metadata": {
    "collapsed": false
   }
  },
  {
   "cell_type": "code",
   "execution_count": 29,
   "outputs": [
    {
     "name": "stderr",
     "output_type": "stream",
     "text": [
      "/home/juliette/mambaforge/lib/python3.10/site-packages/sklearn/metrics/_classification.py:1760: UndefinedMetricWarning: F-score is ill-defined and being set to 0.0 due to no true nor predicted samples. Use `zero_division` parameter to control this behavior.\n",
      "  _warn_prf(average, \"true nor predicted\", \"F-score is\", len(true_sum))\n",
      "/home/juliette/mambaforge/lib/python3.10/site-packages/sklearn/metrics/_classification.py:1760: UndefinedMetricWarning: F-score is ill-defined and being set to 0.0 due to no true nor predicted samples. Use `zero_division` parameter to control this behavior.\n",
      "  _warn_prf(average, \"true nor predicted\", \"F-score is\", len(true_sum))\n"
     ]
    }
   ],
   "source": [
    "all_ko_matrix_raw = simPA.get_metrics(gsea_res_per_path_raw, z_scores_t, 'NOM p-val', \"Term\", norm=False)\n",
    "all_ko_matrix_raw.to_csv(outpath+model_name+\"_GSEA_raw_metric_external_with_WT_default_all.csv\", index=False)\n",
    "gsea_raw_df = pd.concat(gsea_res_per_path_raw)\n",
    "gsea_raw_df.to_csv(outpath+model_name+\"_GSEA_raw_metric_external_with_WT_default_all_results.tsv\", index=False, sep=\"\\t\")"
   ],
   "metadata": {
    "collapsed": false
   }
  },
  {
   "cell_type": "markdown",
   "source": [
    "Get pathways states (blocked, infeasible etc.) for R figures."
   ],
   "metadata": {
    "collapsed": false
   }
  },
  {
   "cell_type": "code",
   "execution_count": 47,
   "outputs": [],
   "source": [
    "all_pathways = [g.name for g in model.groups]\n",
    "all_pathways = pd.DataFrame(all_pathways, columns=[\"Pathway\"])\n",
    "# Add column type with able_to_run_GSEA and able_to_run_ORA and unable_to_run_ORA and infeasible_pathways and blocked_pathways and removed_but_ran\n",
    "all_pathways.loc[all_pathways[\"Pathway\"].isin(able_to_run_GSEA), \"Type\"] = \"able_to_run\"\n",
    "all_pathways.loc[all_pathways[\"Pathway\"].isin(able_to_run_ORA), \"Type\"] = \"able_to_run\"\n",
    "all_pathways.loc[all_pathways[\"Pathway\"].isin(unable_to_run_ORA), \"Type\"] = \"unable_to_run_ORA\"\n",
    "all_pathways.loc[all_pathways[\"Pathway\"].isin(infeasible_pathways), \"Type\"] = \"infeasible\"\n",
    "all_pathways.loc[all_pathways[\"Pathway\"].isin(blocked_pathways), \"Type\"] = \"blocked\"\n",
    "all_pathways.loc[all_pathways[\"Pathway\"].isin(removed_but_ran), \"Type\"] = \"removed_but_ran\"\n",
    "all_pathways.to_csv(outpath+\"pathway_states.tsv\", sep=\"\\t\", index=False)"
   ],
   "metadata": {
    "collapsed": false
   }
  },
  {
   "cell_type": "markdown",
   "source": [
    "# Output necessary files for R figures"
   ],
   "metadata": {
    "collapsed": false
   }
  },
  {
   "cell_type": "code",
   "execution_count": 30,
   "outputs": [],
   "source": [
    "pathways.to_csv(outpath+\"metabolite_pathways.tsv\", sep=\"\\t\", index=False)\n",
    "pathway_names.to_csv(outpath+\"pathway_dict.tsv\", sep=\"\\t\", index=False)\n",
    "metab_dict.to_csv(outpath+\"metab_dict.tsv\", sep=\"\\t\", index=False)\n",
    "# Write pathways_to_remove to txt file\n",
    "with open(outpath+\"miscellaneous_pathways.txt\", \"w\") as f:\n",
    "    for item in pathways_to_remove:\n",
    "        f.write(\"%s\\n\" % item)\n",
    "if model_name != \"Human1\":\n",
    "    with open(outpath+\"infeasible_pathways.txt\", \"w\") as f:\n",
    "        for item in infeasible_pathways:\n",
    "            f.write(\"%s\\n\" % item)"
   ],
   "metadata": {
    "collapsed": false
   }
  },
  {
   "cell_type": "markdown",
   "source": [],
   "metadata": {
    "collapsed": false
   }
  }
 ],
 "metadata": {
  "kernelspec": {
   "display_name": "Python 3",
   "language": "python",
   "name": "python3"
  },
  "language_info": {
   "codemirror_mode": {
    "name": "ipython",
    "version": 2
   },
   "file_extension": ".py",
   "mimetype": "text/x-python",
   "name": "python",
   "nbconvert_exporter": "python",
   "pygments_lexer": "ipython2",
   "version": "2.7.6"
  }
 },
 "nbformat": 4,
 "nbformat_minor": 0
}
